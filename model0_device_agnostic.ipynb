{
 "cells": [
  {
   "cell_type": "code",
   "execution_count": 60,
   "metadata": {
    "id": "Bc8-UvFawGso"
   },
   "outputs": [
    {
     "data": {
      "text/plain": [
       "'1.13.1'"
      ]
     },
     "execution_count": 60,
     "metadata": {},
     "output_type": "execute_result"
    }
   ],
   "source": [
    "import torch\n",
    "from torch import nn\n",
    "\n",
    "# Note: this notebook requires torch >= 1.10.0\n",
    "torch.__version__"
   ]
  },
  {
   "cell_type": "code",
   "execution_count": 61,
   "metadata": {
    "id": "SCSzW7Wgwa7h"
   },
   "outputs": [],
   "source": [
    "device = \"cuda\" if torch.cuda.is_available() else \"cpu\""
   ]
  },
  {
   "cell_type": "code",
   "execution_count": 62,
   "metadata": {},
   "outputs": [
    {
     "data": {
      "text/plain": [
       "'cuda'"
      ]
     },
     "execution_count": 62,
     "metadata": {},
     "output_type": "execute_result"
    }
   ],
   "source": [
    "device\n"
   ]
  },
  {
   "cell_type": "code",
   "execution_count": 117,
   "metadata": {
    "id": "C_TyB8327w8l"
   },
   "outputs": [],
   "source": [
    "import torch\n",
    "import torch.nn as nn\n",
    "import torchvision.models as models\n",
    "\n",
    "class ResNet18(nn.Module):\n",
    "    def __init__(self, num_classes):\n",
    "        super(ResNet18, self).__init__()\n",
    "        self.resnet = nn.Sequential(\n",
    "            nn.Conv2d(3, 64, kernel_size=7, stride=2, padding=3, bias=False),\n",
    "            nn.BatchNorm2d(64),\n",
    "            nn.ReLU(inplace=True),\n",
    "            nn.MaxPool2d(kernel_size=3, stride=2, padding=1),\n",
    "            nn.Sequential(*list(models.resnet18(weights=None).children())[4:-1])\n",
    "        )\n",
    "        self.fc = nn.Linear(512, num_classes)\n",
    "\n",
    "    def forward(self, x):\n",
    "        x = self.resnet(x)\n",
    "        x = x.view(x.size(0), -1)\n",
    "        x = self.fc(x)\n",
    "        return x\n"
   ]
  },
  {
   "cell_type": "code",
   "execution_count": 139,
   "metadata": {
    "id": "q53_XK8N8OVi"
   },
   "outputs": [],
   "source": [
    "from torch.nn.modules.loss import CrossEntropyLoss\n",
    "import torch.optim as optim\n",
    "from torch.utils.data import DataLoader\n",
    "\n",
    "# Define hyperparameters\n",
    "num_epochs = 100\n",
    "batch_size = 32\n",
    "learning_rate = 0.001\n",
    "\n",
    "# Initialize model and optimizer\n",
    "model = ResNet18(num_classes=6).to(device)\n",
    "optimizer = optim.Adam(model.parameters(), lr=learning_rate)\n",
    "loss_fn = CrossEntropyLoss()"
   ]
  },
  {
   "cell_type": "code",
   "execution_count": 110,
   "metadata": {
    "id": "O-pcS7KdC880"
   },
   "outputs": [],
   "source": [
    "import os\n",
    "from PIL import Image\n",
    "\n",
    "# Set the path to the directory\n",
    "path = r'C:\\Users\\Krumomir\\Downloads\\RSCD dataset-1million\\train'\n",
    "\n",
    "# Initialize an empty list to store the subdirectories\n",
    "subdirs = []\n",
    "\n",
    "# Loop through all the directories and files in the directory\n",
    "for dirpath, dirnames, filenames in os.walk(path):\n",
    "    # Loop through all the subdirectories\n",
    "    for dirname in dirnames:\n",
    "        # Append the subdirectory to the list\n",
    "        subdirs.append(os.path.join(dirpath, dirname))\n",
    "\n",
    "# Initialize an empty list to store the images\n",
    "image_list = []\n",
    "counter = 0\n",
    "\n",
    "labels_names = ['dry', 'fresh', 'ice', 'melted', 'water', 'wet']\n",
    "dictionary = {}\n",
    "\n",
    "for counter in range(len(subdirs)):\n",
    "  # Loop through all the files in the directory\n",
    "  for filename in os.listdir(subdirs[counter]):\n",
    "    # Check if the file is an image\n",
    "    if filename.endswith('.jpg') or filename.endswith('.png'):\n",
    "        for name in labels_names:\n",
    "            if name in filename:\n",
    "                if name not in dictionary:\n",
    "                    dictionary[name] = []\n",
    "                dictionary[name].append(subdirs[counter] + \"/\" + filename)\n",
    "\n"
   ]
  },
  {
   "cell_type": "code",
   "execution_count": 119,
   "metadata": {
    "colab": {
     "base_uri": "https://localhost:8080/"
    },
    "id": "d6W83EPVMiMU",
    "outputId": "a58bf909-a430-4273-d5dc-a2a6fc17e96f"
   },
   "outputs": [
    {
     "name": "stdout",
     "output_type": "stream",
     "text": [
      "dry - 355509\n",
      "fresh - 73560\n",
      "ice - 54092\n",
      "melted - 61093\n",
      "water - 147257\n",
      "wet - 267486\n"
     ]
    }
   ],
   "source": [
    "for name in labels_names:\n",
    "    print(f'{name} - {len(dictionary[name])}')"
   ]
  },
  {
   "cell_type": "code",
   "execution_count": 138,
   "metadata": {
    "id": "EHEZJzVoMjUM"
   },
   "outputs": [],
   "source": [
    "dict2 = {}\n",
    "\n",
    "for name in labels_names:\n",
    "    if name not in dict2:\n",
    "        dict2[name] = []\n",
    "    dict2[name] = dictionary[name][:10000]"
   ]
  },
  {
   "cell_type": "code",
   "execution_count": 121,
   "metadata": {
    "colab": {
     "base_uri": "https://localhost:8080/"
    },
    "id": "Y6iy3m3vOBC3",
    "outputId": "977b7d9c-5b17-412f-bb68-7e6b209b61ef"
   },
   "outputs": [
    {
     "name": "stdout",
     "output_type": "stream",
     "text": [
      "dry - 1000\n",
      "fresh - 1000\n",
      "ice - 1000\n",
      "melted - 1000\n",
      "water - 1000\n",
      "wet - 1000\n"
     ]
    }
   ],
   "source": [
    "for name in labels_names:\n",
    "    print(f'{name} - {len(dict2[name])}')"
   ]
  },
  {
   "cell_type": "code",
   "execution_count": 122,
   "metadata": {
    "colab": {
     "base_uri": "https://localhost:8080/",
     "height": 36
    },
    "id": "8TdiCzQVOKiQ",
    "outputId": "aaa7f890-fac1-4f87-91ef-b0b289af0d64"
   },
   "outputs": [
    {
     "data": {
      "text/plain": [
       "'C:\\\\Users\\\\Krumomir\\\\Downloads\\\\RSCD dataset-1million\\\\train\\\\dry_asphalt_severe/202201261342122-dry-asphalt-severe.jpg'"
      ]
     },
     "execution_count": 122,
     "metadata": {},
     "output_type": "execute_result"
    }
   ],
   "source": [
    "dict2[\"dry\"][0]"
   ]
  },
  {
   "cell_type": "code",
   "execution_count": 123,
   "metadata": {
    "id": "-7Cc-PJ-OUnt"
   },
   "outputs": [],
   "source": [
    "import os\n",
    "from PIL import Image\n",
    "\n",
    "image_list = []\n",
    "\n",
    "arr = []\n",
    "\n",
    "for name in dict2:\n",
    "    for filename in dict2[name]:\n",
    "        arr.append(filename)\n",
    "\n",
    "# Loop through all the files in the directory\n",
    "for filename in arr:\n",
    "    img = Image.open(filename)\n",
    "    # Append the image to the list\n",
    "    image_list.append(img)"
   ]
  },
  {
   "cell_type": "code",
   "execution_count": 124,
   "metadata": {
    "colab": {
     "base_uri": "https://localhost:8080/"
    },
    "id": "vvZ-rv4aZMC6",
    "outputId": "4cb0ac19-b4e0-4b90-9c0f-683878325967"
   },
   "outputs": [
    {
     "data": {
      "text/plain": [
       "6000"
      ]
     },
     "execution_count": 124,
     "metadata": {},
     "output_type": "execute_result"
    }
   ],
   "source": [
    "len(arr)"
   ]
  },
  {
   "cell_type": "code",
   "execution_count": 125,
   "metadata": {
    "id": "MlXlc-HhUaCX"
   },
   "outputs": [],
   "source": [
    "labels = []\n",
    "\n",
    "for filename in arr:\n",
    "    for name in labels_names:\n",
    "        if name in filename:\n",
    "            labels.append(name)\n",
    "            break\n",
    "\n",
    "\n",
    "# for filename in arr:\n",
    "#   labels.append([name for name in labels_names if name in filename])\n",
    "#   if 1 < len([name for name in labels_names if name in filename]):\n",
    "#     print(filename)\n",
    "\n"
   ]
  },
  {
   "cell_type": "code",
   "execution_count": 126,
   "metadata": {
    "colab": {
     "base_uri": "https://localhost:8080/"
    },
    "id": "nMvD0W1DP1bv",
    "outputId": "3094eeb7-307a-4e6f-ce26-68d1cd6aef5d"
   },
   "outputs": [
    {
     "data": {
      "text/plain": [
       "6000"
      ]
     },
     "execution_count": 126,
     "metadata": {},
     "output_type": "execute_result"
    }
   ],
   "source": [
    "labels_names\n",
    "len(image_list)\n"
   ]
  },
  {
   "cell_type": "code",
   "execution_count": 127,
   "metadata": {
    "id": "arny0Gz-YbiE"
   },
   "outputs": [],
   "source": [
    "from sklearn import preprocessing\n",
    "import torch\n",
    "\n",
    "le = preprocessing.LabelEncoder()\n",
    "targets = le.fit_transform(labels_names)\n",
    "# targets: array([0, 1, 2, 3, 4])\n",
    "\n",
    "targets = torch.as_tensor(targets)"
   ]
  },
  {
   "cell_type": "code",
   "execution_count": 128,
   "metadata": {
    "id": "zOaYcfxtqted"
   },
   "outputs": [],
   "source": [
    "labels2 = labels\n",
    "labels = le.transform(labels)"
   ]
  },
  {
   "cell_type": "code",
   "execution_count": 129,
   "metadata": {
    "colab": {
     "base_uri": "https://localhost:8080/"
    },
    "id": "yhiQy_JvrSoV",
    "outputId": "ce4672af-605b-434a-a3c8-1890d78f4609"
   },
   "outputs": [
    {
     "data": {
      "text/plain": [
       "array([0, 0, 0, ..., 5, 5, 5])"
      ]
     },
     "execution_count": 129,
     "metadata": {},
     "output_type": "execute_result"
    }
   ],
   "source": [
    "labels"
   ]
  },
  {
   "cell_type": "code",
   "execution_count": 130,
   "metadata": {
    "id": "aMKQ2CErP3Yt"
   },
   "outputs": [],
   "source": [
    "import torch\n",
    "from torchvision import transforms\n",
    "\n",
    "# Define the transformations to apply to the images\n",
    "transform = transforms.Compose([\n",
    "    transforms.ToTensor()\n",
    "])\n",
    "\n",
    "# Define the dataset\n",
    "class ImageListDataset(torch.utils.data.Dataset):\n",
    "    def __init__(self, image_list, labels, transform=None):\n",
    "        self.image_list = image_list\n",
    "        self.labels = labels\n",
    "        self.transform = transform\n",
    "\n",
    "    def __len__(self):\n",
    "        return len(self.image_list)\n",
    "\n",
    "    def __getitem__(self, index):\n",
    "        image = self.image_list[index]\n",
    "        if self.transform:\n",
    "            image = self.transform(image)\n",
    "        label = self.labels[index]\n",
    "        return image, label\n",
    "\n",
    "dataset = ImageListDataset(image_list, labels, transform=transform)\n",
    "\n",
    "# Define the data loader\n",
    "\n",
    "from torch.utils.data import random_split\n",
    "\n",
    "[training_data, testing_data] = random_split(dataset, [0.7, 0.3], generator=torch.Generator().manual_seed(69))\n",
    "\n",
    "torch.manual_seed(69)\n",
    "\n",
    "dataloader_train = torch.utils.data.DataLoader(training_data, batch_size=32, shuffle=True)\n",
    "dataloader_test = torch.utils.data.DataLoader(testing_data, batch_size=32, shuffle=True)"
   ]
  },
  {
   "cell_type": "code",
   "execution_count": 131,
   "metadata": {
    "id": "p-7hZ1I2dt7w"
   },
   "outputs": [],
   "source": [
    "def train_step(model: torch.nn.Module, \n",
    "               dataloader: torch.utils.data.DataLoader, \n",
    "               loss_fn: torch.nn.Module, \n",
    "               optimizer: torch.optim.Optimizer):\n",
    "    # Put model in train mode\n",
    "    model.train()\n",
    "    \n",
    "    # Setup train loss and train accuracy values\n",
    "    train_loss, train_acc = 0, 0\n",
    "    \n",
    "    # Loop through data loader data batches\n",
    "    for batch, (X, y) in enumerate(dataloader):\n",
    "        \n",
    "        y = y.type(torch.LongTensor)   # casting to long\n",
    "    \n",
    "        X, y = X.to(device), y.to(device)\n",
    "        # 1. Forward pass\n",
    "        y_pred = model(X)\n",
    "\n",
    "        # 2. Calculate  and accumulate loss\n",
    "        loss = loss_fn(y_pred, y)\n",
    "        train_loss += loss.item() \n",
    "\n",
    "        # 3. Optimizer zero grad\n",
    "        optimizer.zero_grad()\n",
    "\n",
    "        # 4. Loss backward\n",
    "        loss.backward()\n",
    "\n",
    "        # 5. Optimizer step\n",
    "        optimizer.step()\n",
    "\n",
    "        # Calculate and accumulate accuracy metric across all batches\n",
    "        y_pred_class = torch.argmax(torch.softmax(y_pred, dim=1), dim=1)\n",
    "        train_acc += (y_pred_class == y).sum().item()/len(y_pred)\n",
    "\n",
    "        # Adjust metrics to get average loss and accuracy per batch \n",
    "    train_loss = train_loss / len(dataloader)\n",
    "    train_acc = train_acc / len(dataloader)\n",
    "    return train_loss, train_acc"
   ]
  },
  {
   "cell_type": "code",
   "execution_count": 132,
   "metadata": {
    "id": "JAUKpvYHeM0H"
   },
   "outputs": [],
   "source": [
    "def test_step(model: torch.nn.Module, \n",
    "              dataloader: torch.utils.data.DataLoader, \n",
    "              loss_fn: torch.nn.Module):\n",
    "    # Put model in eval mode\n",
    "    model.eval() \n",
    "    \n",
    "    # Setup test loss and test accuracy values\n",
    "    test_loss, test_acc = 0, 0\n",
    "    \n",
    "    # Turn on inference context manager\n",
    "    with torch.inference_mode():\n",
    "        # Loop through DataLoader batches\n",
    "        for batch, (X, y) in enumerate(dataloader):\n",
    "            \n",
    "            y = y.type(torch.LongTensor)   # casting to long\n",
    "            \n",
    "            X, y = X.to(device), y.to(device)\n",
    "            \n",
    "            # 1. Forward pass\n",
    "            test_pred_logits = model(X)\n",
    "\n",
    "            # 2. Calculate and accumulate loss\n",
    "            loss = loss_fn(test_pred_logits, y)\n",
    "            test_loss += loss.item()\n",
    "            \n",
    "            # Calculate and accumulate accuracy\n",
    "            test_pred_labels = test_pred_logits.argmax(dim=1)\n",
    "            test_acc += ((test_pred_labels == y).sum().item()/len(test_pred_labels))\n",
    "            \n",
    "    # Adjust metrics to get average loss and accuracy per batch \n",
    "    test_loss = test_loss / len(dataloader)\n",
    "    test_acc = test_acc / len(dataloader)\n",
    "    return test_loss, test_acc"
   ]
  },
  {
   "cell_type": "code",
   "execution_count": 133,
   "metadata": {
    "id": "Mr6NIldmZgFA"
   },
   "outputs": [],
   "source": [
    "from tqdm.auto import tqdm\n",
    "\n",
    "def train(model: torch.nn.Module, \n",
    "          train_dataloader: torch.utils.data.DataLoader, \n",
    "          test_dataloader: torch.utils.data.DataLoader, \n",
    "          optimizer: torch.optim.Optimizer,\n",
    "          loss_fn: torch.nn.Module = nn.CrossEntropyLoss(),\n",
    "          epochs: int = 5):\n",
    "  \n",
    "    results = {\"train_loss\": [],\n",
    "        \"train_acc\": [],\n",
    "        \"test_loss\": [],\n",
    "        \"test_acc\": []\n",
    "    }\n",
    "\n",
    "    for epoch in tqdm(range(epochs)):\n",
    "        train_loss, train_acc = train_step(model=model,\n",
    "                                          dataloader=train_dataloader,\n",
    "                                          loss_fn=loss_fn,\n",
    "                                          optimizer=optimizer)\n",
    "        \n",
    "        test_loss, test_acc = test_step(model=model,\n",
    "          dataloader=test_dataloader,\n",
    "          loss_fn=loss_fn)\n",
    "\n",
    "        # 4. Print out what's happening\n",
    "        print(\n",
    "          f\"Epoch: {epoch+1} | \"\n",
    "          f\"train_loss: {train_loss:.4f} | \"\n",
    "          f\"train_acc: {train_acc:.4f} | \"\n",
    "          f\"test_loss: {test_loss:.4f} | \"\n",
    "          f\"test_acc: {test_acc:.4f}\"\n",
    "        )\n",
    "\n",
    "      # 5. Update results dictionary\n",
    "        results[\"train_loss\"].append(train_loss)\n",
    "        results[\"train_acc\"].append(train_acc)\n",
    "        results[\"test_loss\"].append(test_loss)\n",
    "        results[\"test_acc\"].append(test_acc)\n",
    "\n",
    "  # 6. Return the filled results at the end of the epochs\n",
    "    return results"
   ]
  },
  {
   "cell_type": "code",
   "execution_count": 134,
   "metadata": {
    "colab": {
     "base_uri": "https://localhost:8080/"
    },
    "id": "wNwoxpb3usoQ",
    "outputId": "175b25a1-9de9-4fe3-9a4a-47bc30044923"
   },
   "outputs": [
    {
     "data": {
      "text/plain": [
       "array([0, 0, 0, ..., 5, 5, 5])"
      ]
     },
     "execution_count": 134,
     "metadata": {},
     "output_type": "execute_result"
    }
   ],
   "source": [
    "labels"
   ]
  },
  {
   "cell_type": "code",
   "execution_count": 140,
   "metadata": {
    "colab": {
     "base_uri": "https://localhost:8080/",
     "height": 66,
     "referenced_widgets": [
      "8b3faebbcf7641909a18dfbd444db4e1",
      "a2aebbf5849a48e6b2b44228fff203fa",
      "ffae20cf52c242b8ae8ba86b9628669b",
      "647d580a66a8439998b52b6284c3eb79",
      "30ac368dd7594465a02beb4bd2eb0d9d",
      "661b48bbd8f14240a1f32504b4631b78",
      "11d8244b3ea24b6e82f244fd6a1ccc5b",
      "b4366dda8abd49b4821970d62b6d0eb0",
      "eafd92d8a65042b9a6da769769f54f6b",
      "3d56090860b142e89f3a907d5e1053c5",
      "d73bcbd66c984bb09bbaf92775721e3e"
     ]
    },
    "id": "6XyB9n0OeWyk",
    "outputId": "3891fbb0-b018-45c0-8bee-1d5bd21d590d"
   },
   "outputs": [
    {
     "data": {
      "application/vnd.jupyter.widget-view+json": {
       "model_id": "d7e4ca548d9d43dc80895b350f901098",
       "version_major": 2,
       "version_minor": 0
      },
      "text/plain": [
       "  0%|          | 0/100 [00:00<?, ?it/s]"
      ]
     },
     "metadata": {},
     "output_type": "display_data"
    },
    {
     "name": "stdout",
     "output_type": "stream",
     "text": [
      "Epoch: 1 | train_loss: 1.0310 | train_acc: 0.5888 | test_loss: 2.3762 | test_acc: 0.3081\n",
      "Epoch: 2 | train_loss: 0.7594 | train_acc: 0.6863 | test_loss: 2.2172 | test_acc: 0.3975\n",
      "Epoch: 3 | train_loss: 0.6775 | train_acc: 0.7259 | test_loss: 1.8296 | test_acc: 0.4123\n",
      "Epoch: 4 | train_loss: 0.6884 | train_acc: 0.7308 | test_loss: 3.3267 | test_acc: 0.4720\n",
      "Epoch: 5 | train_loss: 0.6343 | train_acc: 0.7483 | test_loss: 3.4494 | test_acc: 0.3076\n",
      "Epoch: 6 | train_loss: 0.6074 | train_acc: 0.7628 | test_loss: 1.5002 | test_acc: 0.4852\n",
      "Epoch: 7 | train_loss: 0.5749 | train_acc: 0.7758 | test_loss: 0.7860 | test_acc: 0.7001\n",
      "Epoch: 8 | train_loss: 0.5578 | train_acc: 0.7763 | test_loss: 3.4042 | test_acc: 0.4134\n",
      "Epoch: 9 | train_loss: 0.5582 | train_acc: 0.7794 | test_loss: 0.8337 | test_acc: 0.6952\n",
      "Epoch: 10 | train_loss: 0.5170 | train_acc: 0.8018 | test_loss: 0.8407 | test_acc: 0.6946\n",
      "Epoch: 11 | train_loss: 0.5075 | train_acc: 0.8082 | test_loss: 0.8607 | test_acc: 0.6897\n",
      "Epoch: 12 | train_loss: 0.4791 | train_acc: 0.8134 | test_loss: 1.9041 | test_acc: 0.5334\n",
      "Epoch: 13 | train_loss: 0.4465 | train_acc: 0.8258 | test_loss: 1.6849 | test_acc: 0.5247\n",
      "Epoch: 14 | train_loss: 0.4602 | train_acc: 0.8253 | test_loss: 2.4159 | test_acc: 0.5312\n",
      "Epoch: 15 | train_loss: 0.4309 | train_acc: 0.8310 | test_loss: 1.6588 | test_acc: 0.6255\n",
      "Epoch: 16 | train_loss: 0.4132 | train_acc: 0.8452 | test_loss: 2.5175 | test_acc: 0.5307\n",
      "Epoch: 17 | train_loss: 0.3973 | train_acc: 0.8475 | test_loss: 0.5791 | test_acc: 0.8043\n",
      "Epoch: 18 | train_loss: 0.3806 | train_acc: 0.8511 | test_loss: 0.8354 | test_acc: 0.7516\n",
      "Epoch: 19 | train_loss: 0.3746 | train_acc: 0.8565 | test_loss: 0.5577 | test_acc: 0.7933\n",
      "Epoch: 20 | train_loss: 0.3657 | train_acc: 0.8615 | test_loss: 0.6518 | test_acc: 0.8043\n",
      "Epoch: 21 | train_loss: 0.3574 | train_acc: 0.8606 | test_loss: 0.6316 | test_acc: 0.7697\n",
      "Epoch: 22 | train_loss: 0.3288 | train_acc: 0.8752 | test_loss: 0.9784 | test_acc: 0.7434\n",
      "Epoch: 23 | train_loss: 0.3086 | train_acc: 0.8750 | test_loss: 0.6368 | test_acc: 0.7884\n",
      "Epoch: 24 | train_loss: 0.3505 | train_acc: 0.8788 | test_loss: 1.8372 | test_acc: 0.6031\n",
      "Epoch: 25 | train_loss: 0.3238 | train_acc: 0.8743 | test_loss: 0.3938 | test_acc: 0.8405\n",
      "Epoch: 26 | train_loss: 0.2969 | train_acc: 0.8847 | test_loss: 2.4249 | test_acc: 0.5702\n",
      "Epoch: 27 | train_loss: 0.2746 | train_acc: 0.9010 | test_loss: 2.6063 | test_acc: 0.5461\n",
      "Epoch: 28 | train_loss: 0.2624 | train_acc: 0.9020 | test_loss: 0.4051 | test_acc: 0.8465\n",
      "Epoch: 29 | train_loss: 0.2696 | train_acc: 0.9010 | test_loss: 1.5592 | test_acc: 0.5620\n",
      "Epoch: 30 | train_loss: 0.2622 | train_acc: 0.9008 | test_loss: 0.4844 | test_acc: 0.8202\n",
      "Epoch: 31 | train_loss: 0.2451 | train_acc: 0.9070 | test_loss: 1.2148 | test_acc: 0.6530\n",
      "Epoch: 32 | train_loss: 0.2336 | train_acc: 0.9100 | test_loss: 0.5444 | test_acc: 0.8043\n",
      "Epoch: 33 | train_loss: 0.2379 | train_acc: 0.9107 | test_loss: 0.6577 | test_acc: 0.7911\n",
      "Epoch: 34 | train_loss: 0.1922 | train_acc: 0.9231 | test_loss: 1.3904 | test_acc: 0.5789\n",
      "Epoch: 35 | train_loss: 0.2216 | train_acc: 0.9190 | test_loss: 0.5977 | test_acc: 0.7823\n",
      "Epoch: 36 | train_loss: 0.1834 | train_acc: 0.9318 | test_loss: 1.5752 | test_acc: 0.6612\n",
      "Epoch: 37 | train_loss: 0.1845 | train_acc: 0.9347 | test_loss: 1.8573 | test_acc: 0.6234\n",
      "Epoch: 38 | train_loss: 0.1864 | train_acc: 0.9313 | test_loss: 3.1245 | test_acc: 0.5027\n",
      "Epoch: 39 | train_loss: 0.1870 | train_acc: 0.9304 | test_loss: 0.4236 | test_acc: 0.8542\n",
      "Epoch: 40 | train_loss: 0.1681 | train_acc: 0.9392 | test_loss: 1.5732 | test_acc: 0.6683\n",
      "Epoch: 41 | train_loss: 0.1772 | train_acc: 0.9299 | test_loss: 1.0663 | test_acc: 0.7791\n",
      "Epoch: 42 | train_loss: 0.1428 | train_acc: 0.9477 | test_loss: 1.4896 | test_acc: 0.7412\n",
      "Epoch: 43 | train_loss: 0.1399 | train_acc: 0.9508 | test_loss: 0.7549 | test_acc: 0.7840\n",
      "Epoch: 44 | train_loss: 0.1668 | train_acc: 0.9451 | test_loss: 0.5252 | test_acc: 0.8163\n",
      "Epoch: 45 | train_loss: 0.1700 | train_acc: 0.9358 | test_loss: 3.0196 | test_acc: 0.5482\n",
      "Epoch: 46 | train_loss: 0.1124 | train_acc: 0.9598 | test_loss: 0.4877 | test_acc: 0.8394\n",
      "Epoch: 47 | train_loss: 0.1417 | train_acc: 0.9519 | test_loss: 0.7843 | test_acc: 0.7955\n",
      "Epoch: 48 | train_loss: 0.1291 | train_acc: 0.9569 | test_loss: 0.5566 | test_acc: 0.8339\n",
      "Epoch: 49 | train_loss: 0.0994 | train_acc: 0.9626 | test_loss: 0.6103 | test_acc: 0.8229\n",
      "Epoch: 50 | train_loss: 0.0857 | train_acc: 0.9699 | test_loss: 0.4062 | test_acc: 0.8723\n",
      "Epoch: 51 | train_loss: 0.0788 | train_acc: 0.9711 | test_loss: 0.5170 | test_acc: 0.8860\n",
      "Epoch: 52 | train_loss: 0.0851 | train_acc: 0.9706 | test_loss: 2.7762 | test_acc: 0.5702\n",
      "Epoch: 53 | train_loss: 0.1104 | train_acc: 0.9628 | test_loss: 1.3196 | test_acc: 0.6974\n",
      "Epoch: 54 | train_loss: 0.1054 | train_acc: 0.9633 | test_loss: 0.3217 | test_acc: 0.9079\n",
      "Epoch: 55 | train_loss: 0.0781 | train_acc: 0.9749 | test_loss: 1.0555 | test_acc: 0.7451\n",
      "Epoch: 56 | train_loss: 0.0683 | train_acc: 0.9740 | test_loss: 0.4583 | test_acc: 0.8679\n",
      "Epoch: 57 | train_loss: 0.0830 | train_acc: 0.9711 | test_loss: 3.7377 | test_acc: 0.4808\n",
      "Epoch: 58 | train_loss: 0.1170 | train_acc: 0.9548 | test_loss: 0.3226 | test_acc: 0.8997\n",
      "Epoch: 59 | train_loss: 0.0837 | train_acc: 0.9716 | test_loss: 0.5541 | test_acc: 0.8580\n",
      "Epoch: 60 | train_loss: 0.0528 | train_acc: 0.9827 | test_loss: 0.2987 | test_acc: 0.9095\n",
      "Epoch: 61 | train_loss: 0.0440 | train_acc: 0.9832 | test_loss: 1.3625 | test_acc: 0.7330\n",
      "Epoch: 62 | train_loss: 0.1115 | train_acc: 0.9647 | test_loss: 0.8101 | test_acc: 0.8218\n",
      "Epoch: 63 | train_loss: 0.0489 | train_acc: 0.9825 | test_loss: 0.3569 | test_acc: 0.9030\n",
      "Epoch: 64 | train_loss: 0.0475 | train_acc: 0.9825 | test_loss: 2.7172 | test_acc: 0.6020\n",
      "Epoch: 65 | train_loss: 0.0622 | train_acc: 0.9792 | test_loss: 0.3145 | test_acc: 0.9041\n",
      "Epoch: 66 | train_loss: 0.0603 | train_acc: 0.9789 | test_loss: 1.6216 | test_acc: 0.6963\n",
      "Epoch: 67 | train_loss: 0.0687 | train_acc: 0.9759 | test_loss: 0.9093 | test_acc: 0.7599\n",
      "Epoch: 68 | train_loss: 0.0483 | train_acc: 0.9837 | test_loss: 0.5226 | test_acc: 0.8953\n",
      "Epoch: 69 | train_loss: 0.0339 | train_acc: 0.9884 | test_loss: 0.4798 | test_acc: 0.8936\n",
      "Epoch: 70 | train_loss: 0.0560 | train_acc: 0.9801 | test_loss: 0.6441 | test_acc: 0.8300\n",
      "Epoch: 71 | train_loss: 0.0315 | train_acc: 0.9898 | test_loss: 0.3388 | test_acc: 0.9139\n",
      "Epoch: 72 | train_loss: 0.0343 | train_acc: 0.9891 | test_loss: 0.5501 | test_acc: 0.8514\n",
      "Epoch: 73 | train_loss: 0.0433 | train_acc: 0.9839 | test_loss: 0.7962 | test_acc: 0.7697\n",
      "Epoch: 74 | train_loss: 0.0559 | train_acc: 0.9820 | test_loss: 0.9887 | test_acc: 0.7971\n",
      "Epoch: 75 | train_loss: 0.0886 | train_acc: 0.9714 | test_loss: 0.3603 | test_acc: 0.9090\n",
      "Epoch: 76 | train_loss: 0.0497 | train_acc: 0.9848 | test_loss: 1.2651 | test_acc: 0.7352\n",
      "Epoch: 77 | train_loss: 0.0282 | train_acc: 0.9908 | test_loss: 0.6029 | test_acc: 0.8454\n",
      "Epoch: 78 | train_loss: 0.0310 | train_acc: 0.9889 | test_loss: 1.2180 | test_acc: 0.7692\n",
      "Epoch: 79 | train_loss: 0.0395 | train_acc: 0.9867 | test_loss: 0.7342 | test_acc: 0.8394\n",
      "Epoch: 80 | train_loss: 0.0516 | train_acc: 0.9820 | test_loss: 0.3412 | test_acc: 0.9123\n",
      "Epoch: 81 | train_loss: 0.0114 | train_acc: 0.9976 | test_loss: 0.5609 | test_acc: 0.8728\n",
      "Epoch: 82 | train_loss: 0.0114 | train_acc: 0.9967 | test_loss: 0.4269 | test_acc: 0.9139\n",
      "Epoch: 83 | train_loss: 0.0389 | train_acc: 0.9870 | test_loss: 0.8689 | test_acc: 0.8410\n",
      "Epoch: 84 | train_loss: 0.0853 | train_acc: 0.9690 | test_loss: 0.6700 | test_acc: 0.8569\n",
      "Epoch: 85 | train_loss: 0.0284 | train_acc: 0.9891 | test_loss: 0.3875 | test_acc: 0.9084\n",
      "Epoch: 86 | train_loss: 0.0400 | train_acc: 0.9882 | test_loss: 0.9491 | test_acc: 0.7785\n",
      "Epoch: 87 | train_loss: 0.0183 | train_acc: 0.9946 | test_loss: 0.3255 | test_acc: 0.9265\n",
      "Epoch: 88 | train_loss: 0.0166 | train_acc: 0.9943 | test_loss: 0.7583 | test_acc: 0.8673\n",
      "Epoch: 89 | train_loss: 0.0714 | train_acc: 0.9759 | test_loss: 0.4271 | test_acc: 0.8947\n",
      "Epoch: 90 | train_loss: 0.0199 | train_acc: 0.9943 | test_loss: 0.5804 | test_acc: 0.8405\n",
      "Epoch: 91 | train_loss: 0.0340 | train_acc: 0.9875 | test_loss: 0.5774 | test_acc: 0.8596\n",
      "Epoch: 92 | train_loss: 0.0670 | train_acc: 0.9777 | test_loss: 0.5337 | test_acc: 0.8860\n"
     ]
    },
    {
     "name": "stdout",
     "output_type": "stream",
     "text": [
      "Epoch: 93 | train_loss: 0.0255 | train_acc: 0.9917 | test_loss: 0.4734 | test_acc: 0.8832\n",
      "Epoch: 94 | train_loss: 0.0444 | train_acc: 0.9860 | test_loss: 0.7889 | test_acc: 0.8268\n",
      "Epoch: 95 | train_loss: 0.0229 | train_acc: 0.9920 | test_loss: 0.4040 | test_acc: 0.9095\n",
      "Epoch: 96 | train_loss: 0.0086 | train_acc: 0.9974 | test_loss: 0.3997 | test_acc: 0.9112\n",
      "Epoch: 97 | train_loss: 0.0160 | train_acc: 0.9941 | test_loss: 0.6246 | test_acc: 0.8547\n",
      "Epoch: 98 | train_loss: 0.0151 | train_acc: 0.9955 | test_loss: 0.4547 | test_acc: 0.8986\n",
      "Epoch: 99 | train_loss: 0.0542 | train_acc: 0.9839 | test_loss: 2.2062 | test_acc: 0.6683\n",
      "Epoch: 100 | train_loss: 0.0334 | train_acc: 0.9875 | test_loss: 0.8984 | test_acc: 0.8284\n"
     ]
    }
   ],
   "source": [
    "torch.manual_seed(69)\n",
    "\n",
    "model_results = train(model, dataloader_train, dataloader_test, optimizer, loss_fn, num_epochs)"
   ]
  },
  {
   "cell_type": "code",
   "execution_count": null,
   "metadata": {
    "id": "ymWYEJ3jmLS6"
   },
   "outputs": [],
   "source": []
  },
  {
   "cell_type": "code",
   "execution_count": null,
   "metadata": {
    "id": "lKYTG2THZgHc"
   },
   "outputs": [],
   "source": []
  },
  {
   "cell_type": "code",
   "execution_count": null,
   "metadata": {
    "id": "ntESdBW-ZgKt"
   },
   "outputs": [],
   "source": []
  }
 ],
 "metadata": {
  "accelerator": "GPU",
  "colab": {
   "provenance": []
  },
  "gpuClass": "standard",
  "kernelspec": {
   "display_name": "Python 3 (ipykernel)",
   "language": "python",
   "name": "python3"
  },
  "language_info": {
   "codemirror_mode": {
    "name": "ipython",
    "version": 3
   },
   "file_extension": ".py",
   "mimetype": "text/x-python",
   "name": "python",
   "nbconvert_exporter": "python",
   "pygments_lexer": "ipython3",
   "version": "3.9.16"
  },
  "widgets": {
   "application/vnd.jupyter.widget-state+json": {
    "11d8244b3ea24b6e82f244fd6a1ccc5b": {
     "model_module": "@jupyter-widgets/controls",
     "model_module_version": "1.5.0",
     "model_name": "DescriptionStyleModel",
     "state": {
      "_model_module": "@jupyter-widgets/controls",
      "_model_module_version": "1.5.0",
      "_model_name": "DescriptionStyleModel",
      "_view_count": null,
      "_view_module": "@jupyter-widgets/base",
      "_view_module_version": "1.2.0",
      "_view_name": "StyleView",
      "description_width": ""
     }
    },
    "30ac368dd7594465a02beb4bd2eb0d9d": {
     "model_module": "@jupyter-widgets/base",
     "model_module_version": "1.2.0",
     "model_name": "LayoutModel",
     "state": {
      "_model_module": "@jupyter-widgets/base",
      "_model_module_version": "1.2.0",
      "_model_name": "LayoutModel",
      "_view_count": null,
      "_view_module": "@jupyter-widgets/base",
      "_view_module_version": "1.2.0",
      "_view_name": "LayoutView",
      "align_content": null,
      "align_items": null,
      "align_self": null,
      "border": null,
      "bottom": null,
      "display": null,
      "flex": null,
      "flex_flow": null,
      "grid_area": null,
      "grid_auto_columns": null,
      "grid_auto_flow": null,
      "grid_auto_rows": null,
      "grid_column": null,
      "grid_gap": null,
      "grid_row": null,
      "grid_template_areas": null,
      "grid_template_columns": null,
      "grid_template_rows": null,
      "height": null,
      "justify_content": null,
      "justify_items": null,
      "left": null,
      "margin": null,
      "max_height": null,
      "max_width": null,
      "min_height": null,
      "min_width": null,
      "object_fit": null,
      "object_position": null,
      "order": null,
      "overflow": null,
      "overflow_x": null,
      "overflow_y": null,
      "padding": null,
      "right": null,
      "top": null,
      "visibility": null,
      "width": null
     }
    },
    "3d56090860b142e89f3a907d5e1053c5": {
     "model_module": "@jupyter-widgets/base",
     "model_module_version": "1.2.0",
     "model_name": "LayoutModel",
     "state": {
      "_model_module": "@jupyter-widgets/base",
      "_model_module_version": "1.2.0",
      "_model_name": "LayoutModel",
      "_view_count": null,
      "_view_module": "@jupyter-widgets/base",
      "_view_module_version": "1.2.0",
      "_view_name": "LayoutView",
      "align_content": null,
      "align_items": null,
      "align_self": null,
      "border": null,
      "bottom": null,
      "display": null,
      "flex": null,
      "flex_flow": null,
      "grid_area": null,
      "grid_auto_columns": null,
      "grid_auto_flow": null,
      "grid_auto_rows": null,
      "grid_column": null,
      "grid_gap": null,
      "grid_row": null,
      "grid_template_areas": null,
      "grid_template_columns": null,
      "grid_template_rows": null,
      "height": null,
      "justify_content": null,
      "justify_items": null,
      "left": null,
      "margin": null,
      "max_height": null,
      "max_width": null,
      "min_height": null,
      "min_width": null,
      "object_fit": null,
      "object_position": null,
      "order": null,
      "overflow": null,
      "overflow_x": null,
      "overflow_y": null,
      "padding": null,
      "right": null,
      "top": null,
      "visibility": null,
      "width": null
     }
    },
    "647d580a66a8439998b52b6284c3eb79": {
     "model_module": "@jupyter-widgets/controls",
     "model_module_version": "1.5.0",
     "model_name": "HTMLModel",
     "state": {
      "_dom_classes": [],
      "_model_module": "@jupyter-widgets/controls",
      "_model_module_version": "1.5.0",
      "_model_name": "HTMLModel",
      "_view_count": null,
      "_view_module": "@jupyter-widgets/controls",
      "_view_module_version": "1.5.0",
      "_view_name": "HTMLView",
      "description": "",
      "description_tooltip": null,
      "layout": "IPY_MODEL_3d56090860b142e89f3a907d5e1053c5",
      "placeholder": "​",
      "style": "IPY_MODEL_d73bcbd66c984bb09bbaf92775721e3e",
      "value": " 1/10 [02:47&lt;25:11, 167.90s/it]"
     }
    },
    "661b48bbd8f14240a1f32504b4631b78": {
     "model_module": "@jupyter-widgets/base",
     "model_module_version": "1.2.0",
     "model_name": "LayoutModel",
     "state": {
      "_model_module": "@jupyter-widgets/base",
      "_model_module_version": "1.2.0",
      "_model_name": "LayoutModel",
      "_view_count": null,
      "_view_module": "@jupyter-widgets/base",
      "_view_module_version": "1.2.0",
      "_view_name": "LayoutView",
      "align_content": null,
      "align_items": null,
      "align_self": null,
      "border": null,
      "bottom": null,
      "display": null,
      "flex": null,
      "flex_flow": null,
      "grid_area": null,
      "grid_auto_columns": null,
      "grid_auto_flow": null,
      "grid_auto_rows": null,
      "grid_column": null,
      "grid_gap": null,
      "grid_row": null,
      "grid_template_areas": null,
      "grid_template_columns": null,
      "grid_template_rows": null,
      "height": null,
      "justify_content": null,
      "justify_items": null,
      "left": null,
      "margin": null,
      "max_height": null,
      "max_width": null,
      "min_height": null,
      "min_width": null,
      "object_fit": null,
      "object_position": null,
      "order": null,
      "overflow": null,
      "overflow_x": null,
      "overflow_y": null,
      "padding": null,
      "right": null,
      "top": null,
      "visibility": null,
      "width": null
     }
    },
    "8b3faebbcf7641909a18dfbd444db4e1": {
     "model_module": "@jupyter-widgets/controls",
     "model_module_version": "1.5.0",
     "model_name": "HBoxModel",
     "state": {
      "_dom_classes": [],
      "_model_module": "@jupyter-widgets/controls",
      "_model_module_version": "1.5.0",
      "_model_name": "HBoxModel",
      "_view_count": null,
      "_view_module": "@jupyter-widgets/controls",
      "_view_module_version": "1.5.0",
      "_view_name": "HBoxView",
      "box_style": "",
      "children": [
       "IPY_MODEL_a2aebbf5849a48e6b2b44228fff203fa",
       "IPY_MODEL_ffae20cf52c242b8ae8ba86b9628669b",
       "IPY_MODEL_647d580a66a8439998b52b6284c3eb79"
      ],
      "layout": "IPY_MODEL_30ac368dd7594465a02beb4bd2eb0d9d"
     }
    },
    "a2aebbf5849a48e6b2b44228fff203fa": {
     "model_module": "@jupyter-widgets/controls",
     "model_module_version": "1.5.0",
     "model_name": "HTMLModel",
     "state": {
      "_dom_classes": [],
      "_model_module": "@jupyter-widgets/controls",
      "_model_module_version": "1.5.0",
      "_model_name": "HTMLModel",
      "_view_count": null,
      "_view_module": "@jupyter-widgets/controls",
      "_view_module_version": "1.5.0",
      "_view_name": "HTMLView",
      "description": "",
      "description_tooltip": null,
      "layout": "IPY_MODEL_661b48bbd8f14240a1f32504b4631b78",
      "placeholder": "​",
      "style": "IPY_MODEL_11d8244b3ea24b6e82f244fd6a1ccc5b",
      "value": " 10%"
     }
    },
    "b4366dda8abd49b4821970d62b6d0eb0": {
     "model_module": "@jupyter-widgets/base",
     "model_module_version": "1.2.0",
     "model_name": "LayoutModel",
     "state": {
      "_model_module": "@jupyter-widgets/base",
      "_model_module_version": "1.2.0",
      "_model_name": "LayoutModel",
      "_view_count": null,
      "_view_module": "@jupyter-widgets/base",
      "_view_module_version": "1.2.0",
      "_view_name": "LayoutView",
      "align_content": null,
      "align_items": null,
      "align_self": null,
      "border": null,
      "bottom": null,
      "display": null,
      "flex": null,
      "flex_flow": null,
      "grid_area": null,
      "grid_auto_columns": null,
      "grid_auto_flow": null,
      "grid_auto_rows": null,
      "grid_column": null,
      "grid_gap": null,
      "grid_row": null,
      "grid_template_areas": null,
      "grid_template_columns": null,
      "grid_template_rows": null,
      "height": null,
      "justify_content": null,
      "justify_items": null,
      "left": null,
      "margin": null,
      "max_height": null,
      "max_width": null,
      "min_height": null,
      "min_width": null,
      "object_fit": null,
      "object_position": null,
      "order": null,
      "overflow": null,
      "overflow_x": null,
      "overflow_y": null,
      "padding": null,
      "right": null,
      "top": null,
      "visibility": null,
      "width": null
     }
    },
    "d73bcbd66c984bb09bbaf92775721e3e": {
     "model_module": "@jupyter-widgets/controls",
     "model_module_version": "1.5.0",
     "model_name": "DescriptionStyleModel",
     "state": {
      "_model_module": "@jupyter-widgets/controls",
      "_model_module_version": "1.5.0",
      "_model_name": "DescriptionStyleModel",
      "_view_count": null,
      "_view_module": "@jupyter-widgets/base",
      "_view_module_version": "1.2.0",
      "_view_name": "StyleView",
      "description_width": ""
     }
    },
    "eafd92d8a65042b9a6da769769f54f6b": {
     "model_module": "@jupyter-widgets/controls",
     "model_module_version": "1.5.0",
     "model_name": "ProgressStyleModel",
     "state": {
      "_model_module": "@jupyter-widgets/controls",
      "_model_module_version": "1.5.0",
      "_model_name": "ProgressStyleModel",
      "_view_count": null,
      "_view_module": "@jupyter-widgets/base",
      "_view_module_version": "1.2.0",
      "_view_name": "StyleView",
      "bar_color": null,
      "description_width": ""
     }
    },
    "ffae20cf52c242b8ae8ba86b9628669b": {
     "model_module": "@jupyter-widgets/controls",
     "model_module_version": "1.5.0",
     "model_name": "FloatProgressModel",
     "state": {
      "_dom_classes": [],
      "_model_module": "@jupyter-widgets/controls",
      "_model_module_version": "1.5.0",
      "_model_name": "FloatProgressModel",
      "_view_count": null,
      "_view_module": "@jupyter-widgets/controls",
      "_view_module_version": "1.5.0",
      "_view_name": "ProgressView",
      "bar_style": "",
      "description": "",
      "description_tooltip": null,
      "layout": "IPY_MODEL_b4366dda8abd49b4821970d62b6d0eb0",
      "max": 10,
      "min": 0,
      "orientation": "horizontal",
      "style": "IPY_MODEL_eafd92d8a65042b9a6da769769f54f6b",
      "value": 1
     }
    }
   }
  }
 },
 "nbformat": 4,
 "nbformat_minor": 1
}
